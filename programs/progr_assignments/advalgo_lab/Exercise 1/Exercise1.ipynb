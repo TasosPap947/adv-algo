{
 "cells": [
  {
   "cell_type": "markdown",
   "metadata": {
    "id": "c_bUM5TAB8gD"
   },
   "source": [
    "# Προηγμένα Θέματα Αλγορίθμων\n",
    "\n",
    "\n",
    "## 1η Εργαστηριακή Άσκηση\n"
   ]
  },
  {
   "cell_type": "markdown",
   "metadata": {
    "id": "Hlay5biLCDTJ"
   },
   "source": [
    "Όνομα:\n",
    "\n",
    "Επώνυμο:\n",
    "\n",
    "Αριθμός Μητρώου:\n"
   ]
  },
  {
   "cell_type": "markdown",
   "metadata": {
    "id": "P1RmGjnVf4jz"
   },
   "source": [
    "*Οδηγίες εκτέλεσης* \n",
    "\n",
    "Θα πρέπει να τρέξετε το παρόν Jupyter Notebook στον ίδιο φάκελο με τα public testcases (δηλαδή τα αρχεία\n",
    "ex1_public.pickle και ex2_public.pickle) και με το script evaluate.py ώστε να μπορείτε να ελέγξετε τοπικά τις λύσεις σας.\n"
   ]
  },
  {
   "cell_type": "markdown",
   "metadata": {
    "id": "miQTFim6CP_4"
   },
   "source": [
    "### Άσκηση 1 (Γραμμική Παλινδρόμηση)\n",
    "\n",
    "Στην άσκηση αυτή θα μοντελοποιήσετε το πρόβλημα της γραμμικής παλινδρόμησης (linear regression) ως ένα πρόβλημα γραμμικού προγραμματισμού. Συγκεκριμένα,\n",
    "μας δίνονται $n$ σημεία $(x_i, y_i)$ τα οποία είναι μετρήσεις, με κάποιο πρόσθετο θόρυβο, από μια ευθεία $\\ y = ax + b$. Ο στόχος μας είναι να βρούμε την\n",
    "ευθεία που εκφράζει καλύτερα τα δεδομένα, δηλαδή τους συντελεστές $a$ και $b$\n",
    "που ελαχιστοποιούν το σφάλμα:\n",
    "$$\n",
    "\\sum_{i=1}^n |(ax_i + b) - y_i|\n",
    "$$"
   ]
  },
  {
   "cell_type": "markdown",
   "metadata": {
    "id": "kJ9tCjeRIKOp"
   },
   "source": [
    "Σε ένα κελί κειμένου περιγράψτε το γραμμικό πρόγραμμα που λύνει το πρόβλημα της γραμμικής παλινδρόμησης. Έπειτα, συμπληρώστε την συνάρτηση fit_line η οποία δέχεται ως παράμετρο την λίστα των $n$ σημείων της εισόδου και πρέπει να επιστρέφει τις παραμέτρους $a$ και $b$ της ευθείας.\n",
    "\n",
    "*Υπόδειξη* : Η απόλυτη τιμή μιας μεταβλητής $x$ δεν είναι γραμμική συνάρτηση και δεν μπορεί να χρησιμοποιηθεί στο LP.\n",
    "Μπορείτε να ορίσετε μια νέα μεταβλητή και να την \"αναγκάσετε\" να πάρει την τιμή |x| μέσα από γραμμικά constraints\n",
    "και μέσω του optimization objective."
   ]
  },
  {
   "cell_type": "code",
   "execution_count": null,
   "metadata": {
    "id": "StgJYnExB6Jw"
   },
   "outputs": [],
   "source": [
    "'''\n",
    "Parameters:\n",
    "  - points: a list of 2-dimensional tuples (x,y)\n",
    "\n",
    "Returns:\n",
    "  - (a,b): a tuple with the line's coefficients\n",
    "'''\n",
    "def fit_line(points):\n",
    "  \n",
    "  return a,b"
   ]
  },
  {
   "cell_type": "markdown",
   "metadata": {},
   "source": [
    "##### Έλεγχος λύσης"
   ]
  },
  {
   "cell_type": "code",
   "execution_count": null,
   "metadata": {},
   "outputs": [],
   "source": [
    "# Τα testcases δίνονται ως ένα binary αρχείο που φορτώνεται από\n",
    "# την βιβλιοθήκη pickle\n",
    "import pickle\n",
    "\n",
    "testcases = []\n",
    "\n",
    "with open('ex1_public.pickle', 'rb') as f:\n",
    "    testcases = pickle.load(f)\n"
   ]
  },
  {
   "cell_type": "code",
   "execution_count": null,
   "metadata": {},
   "outputs": [],
   "source": [
    "# Έχουμε στην διάθεσή μας μια λίστα από 10 testcases\n",
    "print(len(testcases))\n",
    "\n",
    "# κάθε ένα από τα οποία έχει την μορφή (points, optimal_error)\n",
    "# όπου το points είναι μια λίστα με τα σημεία της ειδόδου\n",
    "# και το optimal_error είναι το λάθος της βέλτιστης ευθείας πάνω στα σημεία\n",
    "print(testcases[0][0], testcases[0][1])"
   ]
  },
  {
   "cell_type": "code",
   "execution_count": null,
   "metadata": {},
   "outputs": [],
   "source": [
    "# μπορείτε να χρησιμοποιήσετε την συνάρτηση plot_line() για να σχεδιάσετε\n",
    "# τα σημεία και την ευθεία που βρίσκει η λύση σας\n",
    "\n",
    "import matplotlib.pyplot as plt\n",
    "\n",
    "def plot_line(points, a, b):\n",
    "    x = [z[0] for z in points]\n",
    "    y_noisy = [z[1] for z in points]\n",
    "    y = [a*xx+b for xx in x]\n",
    "\n",
    "    plt.figure(figsize=(7,7))\n",
    "    plt.plot(x, y_noisy, 'ro')\n",
    "    plt.plot(x, y, 'b')\n",
    "    plt.title('Samples')\n",
    "    plt.xlabel('x')\n",
    "    plt.ylabel('y')\n",
    "    plt.grid(True)\n",
    "    plt.show()\n",
    "\n",
    "# Για παράδειγμα, τρέχουμε το testcase 1\n",
    "a, b = fit_line(testcases[1][0])\n",
    "# και σχεδιάζουμε την ευθεία\n",
    "plot_line(testcases[1][0], a, b)"
   ]
  },
  {
   "cell_type": "markdown",
   "metadata": {},
   "source": [
    "Για την Άσκηση 1, θα χρειαστεί να δημιουργήσετε ένα αρχείο ex1.py το οποίο θα περιέχει την συνάρτηση\n",
    "fit_line που υλοποιήσατε παραπάνω και θα χρησιμοποιηθεί για τον αυτόματο έλεγχο της λύσης σας.\n",
    "Προσέξτε κατά την αντιγραφή της συνάρτησης στο αρχείο να προσθέσετε και όποια imports βιβλιοθηκών πιθανώς\n",
    "έχετε χρησιμοποιήσει.\n",
    "\n",
    "Μόλις δημιουργήσετε το αρχείο ex1.py, η παρακάτω εντολή ελέγχει την λύση σας πάνω σε όλα τα public testcases."
   ]
  },
  {
   "cell_type": "code",
   "execution_count": null,
   "metadata": {},
   "outputs": [],
   "source": [
    "!python3 evaluate.py --ex1"
   ]
  },
  {
   "cell_type": "markdown",
   "metadata": {
    "id": "Pu0ef7SeKkO9"
   },
   "source": [
    "### Άσκηση 2 (Εξυπηρέτηση δρομολογίων)\n",
    "\n",
    "Σε μία εταιρία μεταφορών υπάρχουν καθημερινά διάφορες παραγγελίες που πρέπει να παραδοθούν από τον στόλο των φορτηγών της. Κάθε παραγγελία, λόγω ιδιαιτεροτήτων της, δεν μπορεί να παραδοθεί από όλα τα φορτηγά παρά μόνο από συγκεκριμένα, ενώ κάθε φορτηγό μπορεί να παραδόσει μόνο μία παραγγελία. \n",
    "\n",
    "Η είσοδος του προβλήματος είναι δύο αριθμοί $n$ και $m$, ο αριθμός των παραγγελιών και των φορτηγών αντίστοιχα, και μια λίστα με tuples $(i,j)$ τα οποία υποδηλώνουν ότι το φορτηγό $j$ μπορεί να παραδώσει την παραγγελία $i$.\n",
    "\n",
    "Σας ζητείται να βρείτε μια ανάθεση των παραγγελιών σε φορτηγά, η οποία διευθετεί όσες το δυνατόν περισσότερες παραγγελίες, σεβόμενη τους περιορισμούς συμβατότητας και αναθέτωντας το πολύ μία παραγγελία σε κάθε φορτηγό.\n",
    "\n"
   ]
  },
  {
   "cell_type": "markdown",
   "metadata": {
    "id": "h27T1ozdOKMm"
   },
   "source": [
    "Σε ένα κελί κειμένου περιγράψτε το Integer Program που λύνει το πρόβλημα και στην συνέχεια συμπληρώστε την συνάρτηση assign."
   ]
  },
  {
   "cell_type": "code",
   "execution_count": null,
   "metadata": {
    "id": "WqT3gihfOYiR"
   },
   "outputs": [],
   "source": [
    "'''\n",
    "Parameters:\n",
    "  - n: αριθμός παραγγελιών\n",
    "  - m: αριθμός διαθέσιμων φορτηγών\n",
    "  - compatibility: λίστα από tuples (x,y) που υποδηλώνουν ότι\n",
    "    το φορτηγό y μπορεί να παραδώσει την παραγγελία x.\n",
    "    Θα ισχύει ότι 1 <= x <= n και 1 <= y <= m\n",
    "\n",
    "Returns:\n",
    "  - assignment: μια λίστα με tuples (x,y) τα οποία υποδηλώνουν ότι η παραγγελία\n",
    "    x θα παραδοθεί από το φορτηγό y.\n",
    "\n",
    "Sample input:\n",
    "  n = 3\n",
    "  m = 2\n",
    "  compatibility = [(1,1), (2,1), (3,1), (2,2), (3,2)]\n",
    "\n",
    "Sample output:\n",
    "\n",
    "  [(1,1), (2,2)]\n",
    "\n",
    "Σημείωση: υπάρχουν και άλλες λύσεις στις οποίες ταξινομούνται 2 παραγγελίες,\n",
    "π.χ. [(2,1), (3,2)]. Μπορείτε να επιστρέψετε οποιαδήποτε από αυτές θέλετε.\n",
    "'''\n",
    "def assign(n, m, compatibility):\n",
    "  return []\n"
   ]
  },
  {
   "cell_type": "markdown",
   "metadata": {},
   "source": [
    "Αντίστοιχα με την Άσκηση 1, δημιουργήστε ένα αρχείο ex2.py και μεταφέρετε εκεί την συνάρτηση assign\n",
    "μαζί με πιθανά imports βιβλιοθηκών. Χρησιμοποιείστε την επόμενη εντολή για να ελέγξετε την λύση σας."
   ]
  },
  {
   "cell_type": "code",
   "execution_count": null,
   "metadata": {},
   "outputs": [],
   "source": [
    "!python3 evaluate.py --ex2"
   ]
  },
  {
   "cell_type": "markdown",
   "metadata": {
    "id": "CGp4qbEKQKLR"
   },
   "source": [
    "## Παραδοτέα"
   ]
  },
  {
   "cell_type": "markdown",
   "metadata": {
    "id": "VD7umKUWz3s4"
   },
   "source": [
    "Για την Άσκηση 1\n",
    " * Σε ένα κελί κειμένου περιγράψτε το Linear Program που λύνει την άσκηση\n",
    " * Υλοποιήστε το linear program χρησιμοποιώντας τα or-tools στην συνάρτηση fit_line\n",
    " * Τρέξτε διάφορα sanity checks. Για παράδειγμα αν δώσετε στην λύση σας μόνο δύο σημεία, τότε το αποτέλεσμα θα πρέπει να είναι η ευθεία που περνά από αυτά τα σημεία και το συνολικό σφάλμα θα είναι 0. Μπορείτε ακόμα να σχεδιάσετε την λύση σας για διάφορα testcases για να δείτε αν όντως κάνει fit στα δεδομένα.\n",
    " \n",
    " * Μεταφέρετε την fit_line στο αρχείο ex1.py και τρέξτε το evalute.py με παράμετρο --ex1 για να δείτε ότι περνάτε επιτυχώς όλα τα public testcases\n",
    "\n",
    "Για την Άσκηση 2\n",
    " * Σε ένα κελί κειμένου περιγράψτε το Integer Program που λύνει την άσκηση\n",
    " * Υλοποιήστε το integer program χρησιμοποιώντας τα or-tools στην συνάρτηση assign\n",
    " * Τρέξτε το sample testcase.\n",
    " * Μεταφέρετε την assign στο αρχείο ex2.py και τρέξτε το evalute.py με παράμετρο --ex2 για να δείτε ότι περνάτε επιτυχώς όλα τα public testcases\n",
    "\n",
    "Παραδοτέα\n",
    "\n",
    " * Αποθηκεύστε το παρόν notebook σαν html αρχείο (File --> Download as --> HTML) και φροντίστε να έχετε τρέξει όλα τα κελιά ώστε να φαίνονται τα αποτελέσματα.\n",
    " * Θα παραδόσετε ένα αρχείο .zip που θα περιέχει το notebook σαν html αρχείο και τα δύο python scripts που δημιουργήσατε (ex1.py, ex2.py)"
   ]
  }
 ],
 "metadata": {
  "colab": {
   "name": "AdvAlgo_Ex1.ipynb",
   "provenance": [],
   "toc_visible": true
  },
  "kernelspec": {
   "display_name": "Python 3 (ipykernel)",
   "language": "python",
   "name": "python3"
  },
  "language_info": {
   "codemirror_mode": {
    "name": "ipython",
    "version": 3
   },
   "file_extension": ".py",
   "mimetype": "text/x-python",
   "name": "python",
   "nbconvert_exporter": "python",
   "pygments_lexer": "ipython3",
   "version": "3.8.9"
  }
 },
 "nbformat": 4,
 "nbformat_minor": 1
}
